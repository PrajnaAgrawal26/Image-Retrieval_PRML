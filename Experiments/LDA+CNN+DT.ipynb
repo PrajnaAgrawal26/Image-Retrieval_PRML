{
  "cells": [
    {
      "cell_type": "markdown",
      "metadata": {
        "id": "ziUd8dmx7OSI"
      },
      "source": [
        "#LDA + CNN + Decision Trees"
      ]
    },
    {
      "cell_type": "code",
      "execution_count": null,
      "metadata": {},
      "outputs": [],
      "source": [
        "import pickle\n",
        "import numpy as np\n",
        "from skimage.transform import resize\n",
        "from skimage.feature import hog\n",
        "\n",
        "batch_files = [\n",
        "    \"data_batch_1\",\n",
        "    \"data_batch_2\",\n",
        "    \"data_batch_3\",\n",
        "    \"data_batch_4\",\n",
        "    \"data_batch_5\"\n",
        "]\n",
        "\n",
        "def unpickle(file):\n",
        "  with open(file, 'rb') as fo:\n",
        "    dict_data = pickle.load(fo, encoding='bytes')\n",
        "  return dict_data\n",
        "\n",
        "batch1 = unpickle(r\"data_batch_1\")\n",
        "batch2 = unpickle(r\"data_batch_2\")\n",
        "batch3 = unpickle(r\"data_batch_3\")\n",
        "batch4 = unpickle(r\"data_batch_4\")\n",
        "batch5 = unpickle(r\"data_batch_5\")\n",
        "\n",
        "\n",
        "test_data = unpickle(r\"test_batch\")\n",
        "train_data = [batch1,batch2,batch3,batch4,batch5]"
      ]
    },
    {
      "cell_type": "code",
      "execution_count": null,
      "metadata": {
        "colab": {
          "base_uri": "https://localhost:8080/"
        },
        "id": "Vu8uxVw67N5A",
        "outputId": "0da0232d-7f1b-4a07-f232-6125b282c38b"
      },
      "outputs": [
        {
          "name": "stdout",
          "output_type": "stream",
          "text": [
            "Reduced feature shape after LDA (Train): (50000, 9)\n",
            "Reduced feature shape after LDA (Test): (10000, 9)\n",
            "Decision Tree Train Accuracy after LDA: 0.9268\n",
            "              precision    recall  f1-score   support\n",
            "\n",
            "           0       0.94      0.95      0.94      5000\n",
            "           1       0.97      0.97      0.97      5000\n",
            "           2       0.93      0.89      0.91      5000\n",
            "           3       0.86      0.86      0.86      5000\n",
            "           4       0.88      0.92      0.90      5000\n",
            "           5       0.91      0.88      0.90      5000\n",
            "           6       0.95      0.94      0.95      5000\n",
            "           7       0.90      0.93      0.91      5000\n",
            "           8       0.98      0.96      0.97      5000\n",
            "           9       0.96      0.96      0.96      5000\n",
            "\n",
            "    accuracy                           0.93     50000\n",
            "   macro avg       0.93      0.93      0.93     50000\n",
            "weighted avg       0.93      0.93      0.93     50000\n",
            "\n",
            "Decision Tree Test Accuracy after LDA: 0.8755\n",
            "              precision    recall  f1-score   support\n",
            "\n",
            "           0       0.89      0.89      0.89      1000\n",
            "           1       0.94      0.93      0.94      1000\n",
            "           2       0.86      0.82      0.84      1000\n",
            "           3       0.78      0.77      0.77      1000\n",
            "           4       0.82      0.88      0.85      1000\n",
            "           5       0.85      0.83      0.84      1000\n",
            "           6       0.90      0.89      0.89      1000\n",
            "           7       0.87      0.88      0.87      1000\n",
            "           8       0.94      0.94      0.94      1000\n",
            "           9       0.93      0.92      0.92      1000\n",
            "\n",
            "    accuracy                           0.88     10000\n",
            "   macro avg       0.88      0.88      0.88     10000\n",
            "weighted avg       0.88      0.88      0.88     10000\n",
            "\n"
          ]
        }
      ],
      "source": [
        "from sklearn.discriminant_analysis import LinearDiscriminantAnalysis\n",
        "X_train = np.load(\"cifar10_cnn_train_features.npy\")\n",
        "y_train = np.load(\"cifar10_train_labels.npy\")\n",
        "\n",
        "X_test = np.load(\"cifar10_cnn_test_features.npy\")\n",
        "y_test = np.load(\"cifar10_test_labels.npy\")\n",
        "\n",
        "lda = LinearDiscriminantAnalysis(n_components=9)\n",
        "X_train_lda = lda.fit_transform(X_train, y_train)\n",
        "X_test_lda = lda.transform(X_test)\n",
        "\n",
        "print(f\"Reduced feature shape after LDA (Train): {X_train_lda.shape}\")\n",
        "print(f\"Reduced feature shape after LDA (Test): {X_test_lda.shape}\")\n",
        "\n",
        "clf = DecisionTreeClassifier(max_depth=10,min_samples_split=5, min_samples_leaf=3, random_state=42)\n",
        "clf.fit(X_train_lda, y_train)\n",
        "\n",
        "y_train_pred = clf.predict(X_train_lda)\n",
        "y_test_pred = clf.predict(X_test_lda)\n",
        "\n",
        "# Compute accuracy\n",
        "train_accuracy = accuracy_score(y_train, y_train_pred)\n",
        "test_accuracy = accuracy_score(y_test, y_test_pred)\n",
        "\n",
        "print(f\"Decision Tree Train Accuracy after LDA: {train_accuracy:.4f}\")\n",
        "from sklearn.metrics import classification_report\n",
        "report = classification_report(y_train, y_train_pred)\n",
        "print(report)\n",
        "\n",
        "print(f\"Decision Tree Test Accuracy after LDA: {test_accuracy:.4f}\")\n",
        "\n",
        "report = classification_report(y_test, y_test_pred)\n",
        "print(report)\n"
      ]
    }
  ],
  "metadata": {
    "accelerator": "GPU",
    "colab": {
      "gpuType": "T4",
      "provenance": []
    },
    "kernelspec": {
      "display_name": "Python 3",
      "name": "python3"
    },
    "language_info": {
      "name": "python"
    }
  },
  "nbformat": 4,
  "nbformat_minor": 0
}
