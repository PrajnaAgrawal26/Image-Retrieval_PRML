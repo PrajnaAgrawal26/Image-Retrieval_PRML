{
  "cells": [
    {
      "cell_type": "markdown",
      "metadata": {
        "id": "Pxs3OSVL5WY3"
      },
      "source": [
        "#Decision Tree with CNN"
      ]
    },
    {
      "cell_type": "code",
      "execution_count": null,
      "metadata": {},
      "outputs": [],
      "source": [
        "import pickle\n",
        "import numpy as np\n",
        "from skimage.transform import resize\n",
        "from skimage.feature import hog\n",
        "\n",
        "batch_files = [\n",
        "    \"data_batch_1\",\n",
        "    \"data_batch_2\",\n",
        "    \"data_batch_3\",\n",
        "    \"data_batch_4\",\n",
        "    \"data_batch_5\"\n",
        "]\n",
        "\n",
        "def unpickle(file):\n",
        "  with open(file, 'rb') as fo:\n",
        "    dict_data = pickle.load(fo, encoding='bytes')\n",
        "  return dict_data\n",
        "\n",
        "batch1 = unpickle(r\"data_batch_1\")\n",
        "batch2 = unpickle(r\"data_batch_2\")\n",
        "batch3 = unpickle(r\"data_batch_3\")\n",
        "batch4 = unpickle(r\"data_batch_4\")\n",
        "batch5 = unpickle(r\"data_batch_5\")\n",
        "\n",
        "\n",
        "test_data = unpickle(r\"test_batch\")\n",
        "train_data = [batch1,batch2,batch3,batch4,batch5]"
      ]
    },
    {
      "cell_type": "code",
      "execution_count": null,
      "metadata": {
        "colab": {
          "base_uri": "https://localhost:8080/"
        },
        "id": "7MJ5Ov-P5WCA",
        "outputId": "147a77a6-c772-4506-8363-63ee728a8146"
      },
      "outputs": [
        {
          "name": "stdout",
          "output_type": "stream",
          "text": [
            "Decision Tree Train Accuracy on CNN features: 0.8564\n",
            "              precision    recall  f1-score   support\n",
            "\n",
            "           0       0.88      0.88      0.88      5000\n",
            "           1       0.95      0.91      0.93      5000\n",
            "           2       0.84      0.82      0.83      5000\n",
            "           3       0.67      0.83      0.74      5000\n",
            "           4       0.78      0.82      0.80      5000\n",
            "           5       0.87      0.82      0.85      5000\n",
            "           6       0.89      0.85      0.87      5000\n",
            "           7       0.88      0.81      0.85      5000\n",
            "           8       0.93      0.89      0.91      5000\n",
            "           9       0.94      0.92      0.93      5000\n",
            "\n",
            "    accuracy                           0.86     50000\n",
            "   macro avg       0.86      0.86      0.86     50000\n",
            "weighted avg       0.86      0.86      0.86     50000\n",
            "\n",
            "Decision Tree Test Accuracy on CNN features: 0.6719\n",
            "              precision    recall  f1-score   support\n",
            "\n",
            "           0       0.68      0.67      0.68      1000\n",
            "           1       0.79      0.78      0.78      1000\n",
            "           2       0.59      0.56      0.57      1000\n",
            "           3       0.48      0.62      0.54      1000\n",
            "           4       0.57      0.61      0.59      1000\n",
            "           5       0.69      0.63      0.66      1000\n",
            "           6       0.74      0.68      0.71      1000\n",
            "           7       0.68      0.59      0.63      1000\n",
            "           8       0.79      0.79      0.79      1000\n",
            "           9       0.78      0.79      0.79      1000\n",
            "\n",
            "    accuracy                           0.67     10000\n",
            "   macro avg       0.68      0.67      0.67     10000\n",
            "weighted avg       0.68      0.67      0.67     10000\n",
            "\n"
          ]
        }
      ],
      "source": [
        "X_train = np.load(\"cifar10_cnn_train_features.npy\")\n",
        "X_test = np.load(\"cifar10_cnn_test_features.npy\")\n",
        "\n",
        "y_train = np.load(\"cifar10_train_labels.npy\")\n",
        "y_test =np.load(\"cifar10_test_labels.npy\")\n",
        "\n",
        "# Reshape features to 2D (samples, features)\n",
        "X_train = X_train.reshape(X_train.shape[0], -1)  # (50000, 2048)\n",
        "X_test = X_test.reshape(X_test.shape[0], -1)  # (10000, 2048)\n",
        "\n",
        "\n",
        "clf = DecisionTreeClassifier(max_depth=15,min_samples_split=5, min_samples_leaf=3, random_state=42)\n",
        "clf.fit(X_train, y_train)\n",
        "\n",
        "y_train_pred = clf.predict(X_train)\n",
        "y_test_pred = clf.predict(X_test)\n",
        "\n",
        "# Compute accuracy\n",
        "train_accuracy = accuracy_score(y_train, y_train_pred)\n",
        "test_accuracy = accuracy_score(y_test, y_test_pred)\n",
        "\n",
        "print(f\"Decision Tree Train Accuracy on CNN features: {train_accuracy:.4f}\")\n",
        "from sklearn.metrics import classification_report\n",
        "report = classification_report(y_train, y_train_pred)\n",
        "print(report)\n",
        "\n",
        "print(f\"Decision Tree Test Accuracy on CNN features: {test_accuracy:.4f}\")\n",
        "\n",
        "report = classification_report(y_test, y_test_pred)\n",
        "print(report)\n"
      ]
    }
  ],
  "metadata": {
    "accelerator": "GPU",
    "colab": {
      "gpuType": "T4",
      "provenance": []
    },
    "kernelspec": {
      "display_name": "Python 3",
      "name": "python3"
    },
    "language_info": {
      "name": "python"
    }
  },
  "nbformat": 4,
  "nbformat_minor": 0
}
