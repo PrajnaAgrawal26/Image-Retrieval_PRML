{
  "cells": [
    {
      "cell_type": "markdown",
      "metadata": {
        "id": "E7ftS6jAocvj"
      },
      "source": [
        "#Decision Tree with HoG"
      ]
    },
    {
      "cell_type": "code",
      "execution_count": null,
      "metadata": {},
      "outputs": [],
      "source": [
        "import pickle\n",
        "import numpy as np\n",
        "from skimage.transform import resize\n",
        "from skimage.feature import hog\n",
        "\n",
        "batch_files = [\n",
        "    \"data_batch_1\",\n",
        "    \"data_batch_2\",\n",
        "    \"data_batch_3\",\n",
        "    \"data_batch_4\",\n",
        "    \"data_batch_5\"\n",
        "]\n",
        "\n",
        "def unpickle(file):\n",
        "  with open(file, 'rb') as fo:\n",
        "    dict_data = pickle.load(fo, encoding='bytes')\n",
        "  return dict_data\n",
        "\n",
        "batch1 = unpickle(r\"data_batch_1\")\n",
        "batch2 = unpickle(r\"data_batch_2\")\n",
        "batch3 = unpickle(r\"data_batch_3\")\n",
        "batch4 = unpickle(r\"data_batch_4\")\n",
        "batch5 = unpickle(r\"data_batch_5\")\n",
        "\n",
        "\n",
        "test_data = unpickle(r\"test_batch\")\n",
        "train_data = [batch1,batch2,batch3,batch4,batch5]"
      ]
    },
    {
      "cell_type": "code",
      "execution_count": null,
      "metadata": {
        "colab": {
          "base_uri": "https://localhost:8080/"
        },
        "id": "Y_zVBMDQobPI",
        "outputId": "e4617ac6-1c21-4c37-cd7a-a14280cfdd85"
      },
      "outputs": [
        {
          "name": "stdout",
          "output_type": "stream",
          "text": [
            "Train Accuracy: 0.3712\n",
            "              precision    recall  f1-score   support\n",
            "\n",
            "           0       0.51      0.40      0.45      5000\n",
            "           1       0.62      0.52      0.57      5000\n",
            "           2       0.25      0.29      0.27      5000\n",
            "           3       0.27      0.17      0.21      5000\n",
            "           4       0.24      0.38      0.29      5000\n",
            "           5       0.32      0.31      0.31      5000\n",
            "           6       0.33      0.35      0.34      5000\n",
            "           7       0.41      0.31      0.35      5000\n",
            "           8       0.47      0.55      0.51      5000\n",
            "           9       0.42      0.45      0.43      5000\n",
            "\n",
            "    accuracy                           0.37     50000\n",
            "   macro avg       0.38      0.37      0.37     50000\n",
            "weighted avg       0.38      0.37      0.37     50000\n",
            "\n",
            "Test Accuracy: 0.2487\n",
            "              precision    recall  f1-score   support\n",
            "\n",
            "           0       0.26      0.19      0.22      1000\n",
            "           1       0.38      0.31      0.34      1000\n",
            "           2       0.17      0.21      0.19      1000\n",
            "           3       0.17      0.11      0.13      1000\n",
            "           4       0.19      0.30      0.23      1000\n",
            "           5       0.21      0.20      0.20      1000\n",
            "           6       0.28      0.31      0.29      1000\n",
            "           7       0.29      0.22      0.25      1000\n",
            "           8       0.31      0.36      0.34      1000\n",
            "           9       0.26      0.28      0.27      1000\n",
            "\n",
            "    accuracy                           0.25     10000\n",
            "   macro avg       0.25      0.25      0.25     10000\n",
            "weighted avg       0.25      0.25      0.25     10000\n",
            "\n"
          ]
        }
      ],
      "source": [
        "from sklearn.tree import DecisionTreeClassifier\n",
        "from sklearn.metrics import accuracy_score\n",
        "\n",
        "# Extract HOG features from test data\n",
        "X_train = np.load(\"cifar10_hog_train_features.npy\")\n",
        "X_test = np.load(\"cifar10_hog_test_features.npy\")\n",
        "\n",
        "y_train = np.load(\"cifar10_train_labels.npy\")\n",
        "y_test =np.load(\"cifar10_test_labels.npy\")\n",
        "\n",
        "# Train Decision Tree Classifier\n",
        "clf = DecisionTreeClassifier(max_depth=10, min_samples_split=5, min_samples_leaf=3, random_state=42)\n",
        "clf.fit(X_train, y_train)\n",
        "\n",
        "# Predictions\n",
        "y_train_pred = clf.predict(X_train)\n",
        "y_test_pred = clf.predict(X_test)\n",
        "\n",
        "# Compute Accuracy\n",
        "train_accuracy = accuracy_score(y_train, y_train_pred)\n",
        "test_accuracy = accuracy_score(y_test, y_test_pred)\n",
        "\n",
        "print(f\"Train Accuracy: {train_accuracy:.4f}\")\n",
        "from sklearn.metrics import classification_report\n",
        "report = classification_report(y_train, y_train_pred)\n",
        "print(report)\n",
        "\n",
        "print(f\"Test Accuracy: {test_accuracy:.4f}\")\n",
        "report = classification_report(y_test, y_test_pred)\n",
        "print(report)\n"
      ]
    }
  ],
  "metadata": {
    "accelerator": "GPU",
    "colab": {
      "gpuType": "T4",
      "provenance": []
    },
    "kernelspec": {
      "display_name": "Python 3",
      "name": "python3"
    },
    "language_info": {
      "name": "python"
    }
  },
  "nbformat": 4,
  "nbformat_minor": 0
}
