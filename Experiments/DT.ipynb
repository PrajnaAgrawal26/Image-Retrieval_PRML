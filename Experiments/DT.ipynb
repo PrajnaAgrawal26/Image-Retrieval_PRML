{
  "cells": [
    {
      "cell_type": "markdown",
      "metadata": {
        "id": "M5JYQ_cTostS"
      },
      "source": [
        "#Decision Tree Classifier"
      ]
    },
    {
      "cell_type": "code",
      "execution_count": null,
      "metadata": {},
      "outputs": [],
      "source": [
        "import pickle\n",
        "import numpy as np\n",
        "from skimage.transform import resize\n",
        "from skimage.feature import hog\n",
        "\n",
        "batch_files = [\n",
        "    \"data_batch_1\",\n",
        "    \"data_batch_2\",\n",
        "    \"data_batch_3\",\n",
        "    \"data_batch_4\",\n",
        "    \"data_batch_5\"\n",
        "]\n",
        "\n",
        "def unpickle(file):\n",
        "  with open(file, 'rb') as fo:\n",
        "    dict_data = pickle.load(fo, encoding='bytes')\n",
        "  return dict_data\n",
        "\n",
        "batch1 = unpickle(r\"data_batch_1\")\n",
        "batch2 = unpickle(r\"data_batch_2\")\n",
        "batch3 = unpickle(r\"data_batch_3\")\n",
        "batch4 = unpickle(r\"data_batch_4\")\n",
        "batch5 = unpickle(r\"data_batch_5\")\n",
        "\n",
        "\n",
        "test_data = unpickle(r\"test_batch\")\n",
        "train_data = [batch1,batch2,batch3,batch4,batch5]"
      ]
    },
    {
      "cell_type": "code",
      "execution_count": null,
      "metadata": {
        "colab": {
          "base_uri": "https://localhost:8080/"
        },
        "id": "tZIwFgWyorB7",
        "outputId": "ce959968-b497-4671-bc8c-0970555b96e4"
      },
      "outputs": [
        {
          "name": "stdout",
          "output_type": "stream",
          "text": [
            "Accuracy for Decision Tree:\n",
            "Train Accuracy: 0.4248\n",
            "              precision    recall  f1-score   support\n",
            "\n",
            "           0       0.47      0.51      0.49      5000\n",
            "           1       0.59      0.51      0.55      5000\n",
            "           2       0.32      0.28      0.30      5000\n",
            "           3       0.32      0.32      0.32      5000\n",
            "           4       0.30      0.30      0.30      5000\n",
            "           5       0.42      0.35      0.39      5000\n",
            "           6       0.35      0.54      0.43      5000\n",
            "           7       0.44      0.38      0.41      5000\n",
            "           8       0.55      0.55      0.55      5000\n",
            "           9       0.54      0.52      0.53      5000\n",
            "\n",
            "    accuracy                           0.42     50000\n",
            "   macro avg       0.43      0.42      0.42     50000\n",
            "weighted avg       0.43      0.42      0.42     50000\n",
            "\n",
            "Test Accuracy: 0.3063\n",
            "              precision    recall  f1-score   support\n",
            "\n",
            "           0       0.39      0.43      0.41      1000\n",
            "           1       0.35      0.29      0.32      1000\n",
            "           2       0.22      0.19      0.20      1000\n",
            "           3       0.17      0.18      0.18      1000\n",
            "           4       0.26      0.25      0.25      1000\n",
            "           5       0.28      0.22      0.24      1000\n",
            "           6       0.28      0.44      0.35      1000\n",
            "           7       0.31      0.28      0.29      1000\n",
            "           8       0.44      0.44      0.44      1000\n",
            "           9       0.36      0.35      0.35      1000\n",
            "\n",
            "    accuracy                           0.31     10000\n",
            "   macro avg       0.31      0.31      0.30     10000\n",
            "weighted avg       0.31      0.31      0.30     10000\n",
            "\n"
          ]
        }
      ],
      "source": [
        "import numpy as np\n",
        "from skimage.transform import resize\n",
        "from skimage.color import rgb2gray\n",
        "from skimage.feature import hog\n",
        "from sklearn.tree import DecisionTreeClassifier\n",
        "from sklearn.metrics import accuracy_score\n",
        "\n",
        "# Extract images and labels from train set\n",
        "X_train = np.vstack([batch[b\"data\"] for batch in train_data])\n",
        "y_train = np.hstack([batch[b\"labels\"] for batch in train_data])\n",
        "\n",
        "# Extract images and labels from test set\n",
        "X_test = test_data[b\"data\"]\n",
        "y_test = np.array(test_data[b\"labels\"])\n",
        "\n",
        "\n",
        "# # Preprocess images\n",
        "# X_train_processed = preprocess_images(X_train)\n",
        "# X_test_processed = preprocess_images(X_test)\n",
        "\n",
        "# Train Decision Tree Classifier\n",
        "clf = DecisionTreeClassifier(max_depth=10, min_samples_split=5, min_samples_leaf=3, random_state=42)\n",
        "clf.fit(X_train, y_train)\n",
        "\n",
        "y_train_pred = clf.predict(X_train)\n",
        "y_test_pred = clf.predict(X_test)\n",
        "\n",
        "print(\"Accuracy for Decision Tree:\")\n",
        "\n",
        "# Compute Accuracy\n",
        "train_accuracy = accuracy_score(y_train, y_train_pred)\n",
        "test_accuracy = accuracy_score(y_test, y_test_pred)\n",
        "\n",
        "print(f\"Train Accuracy: {train_accuracy:.4f}\")\n",
        "\n",
        "from sklearn.metrics import classification_report\n",
        "report = classification_report(y_train, y_train_pred)\n",
        "print(report)\n",
        "\n",
        "print(f\"Test Accuracy: {test_accuracy:.4f}\")\n",
        "\n",
        "report = classification_report(y_test, y_test_pred)\n",
        "print(report)\n"
      ]
    }
  ],
  "metadata": {
    "accelerator": "GPU",
    "colab": {
      "gpuType": "T4",
      "provenance": []
    },
    "kernelspec": {
      "display_name": "Python 3",
      "name": "python3"
    },
    "language_info": {
      "name": "python"
    }
  },
  "nbformat": 4,
  "nbformat_minor": 0
}
