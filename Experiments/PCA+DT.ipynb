{
  "cells": [
    {
      "cell_type": "markdown",
      "metadata": {
        "id": "jKC5EinjmQcs"
      },
      "source": [
        "#PCA"
      ]
    },
    {
      "cell_type": "code",
      "execution_count": null,
      "metadata": {},
      "outputs": [],
      "source": [
        "import pickle\n",
        "import numpy as np\n",
        "from skimage.transform import resize\n",
        "from skimage.feature import hog\n",
        "\n",
        "batch_files = [\n",
        "    \"data_batch_1\",\n",
        "    \"data_batch_2\",\n",
        "    \"data_batch_3\",\n",
        "    \"data_batch_4\",\n",
        "    \"data_batch_5\"\n",
        "]\n",
        "\n",
        "def unpickle(file):\n",
        "  with open(file, 'rb') as fo:\n",
        "    dict_data = pickle.load(fo, encoding='bytes')\n",
        "  return dict_data\n",
        "\n",
        "batch1 = unpickle(r\"data_batch_1\")\n",
        "batch2 = unpickle(r\"data_batch_2\")\n",
        "batch3 = unpickle(r\"data_batch_3\")\n",
        "batch4 = unpickle(r\"data_batch_4\")\n",
        "batch5 = unpickle(r\"data_batch_5\")\n",
        "\n",
        "\n",
        "test_data = unpickle(r\"test_batch\")\n",
        "train_data = [batch1,batch2,batch3,batch4,batch5]"
      ]
    },
    {
      "cell_type": "code",
      "execution_count": null,
      "metadata": {
        "colab": {
          "base_uri": "https://localhost:8080/"
        },
        "id": "UOmjllpZG08m",
        "outputId": "bbc07f8c-be60-42f7-dbfe-6c24cb5d1f48"
      },
      "outputs": [
        {
          "name": "stdout",
          "output_type": "stream",
          "text": [
            "Train Accuracy after PCA: 0.4827\n",
            "              precision    recall  f1-score   support\n",
            "\n",
            "           0       0.56      0.63      0.59      5000\n",
            "           1       0.60      0.57      0.59      5000\n",
            "           2       0.39      0.41      0.40      5000\n",
            "           3       0.35      0.37      0.36      5000\n",
            "           4       0.35      0.41      0.38      5000\n",
            "           5       0.42      0.39      0.41      5000\n",
            "           6       0.43      0.44      0.44      5000\n",
            "           7       0.58      0.38      0.46      5000\n",
            "           8       0.66      0.62      0.64      5000\n",
            "           9       0.55      0.60      0.58      5000\n",
            "\n",
            "    accuracy                           0.48     50000\n",
            "   macro avg       0.49      0.48      0.48     50000\n",
            "weighted avg       0.49      0.48      0.48     50000\n",
            "\n",
            "Test Accuracy after PCA: 0.3112\n",
            "              precision    recall  f1-score   support\n",
            "\n",
            "           0       0.39      0.46      0.42      1000\n",
            "           1       0.37      0.33      0.35      1000\n",
            "           2       0.25      0.27      0.26      1000\n",
            "           3       0.19      0.20      0.20      1000\n",
            "           4       0.25      0.29      0.27      1000\n",
            "           5       0.28      0.25      0.26      1000\n",
            "           6       0.33      0.34      0.33      1000\n",
            "           7       0.33      0.22      0.27      1000\n",
            "           8       0.42      0.40      0.41      1000\n",
            "           9       0.32      0.34      0.33      1000\n",
            "\n",
            "    accuracy                           0.31     10000\n",
            "   macro avg       0.31      0.31      0.31     10000\n",
            "weighted avg       0.31      0.31      0.31     10000\n",
            "\n"
          ]
        }
      ],
      "source": [
        "from sklearn.decomposition import PCA\n",
        "\n",
        "X_train = np.vstack([batch[b'data'] for batch in train_data])  # Shape: (50000, 3072)\n",
        "y_train = np.hstack([batch[b'labels'] for batch in train_data])  # Shape: (50000,)\n",
        "\n",
        "X_test = test_data[b'data']  # Shape: (10000, 3072)\n",
        "y_test = np.array(test_data[b'labels'])  # Shape: (10000,)\n",
        "\n",
        "# Apply PCA\n",
        "pca = PCA(n_components=100)  # Reduce to 100 principal components\n",
        "X_train_pca = pca.fit_transform(X_train)\n",
        "X_test_pca = pca.transform(X_test)\n",
        "\n",
        "# Train Decision Tree Classifier\n",
        "clf = DecisionTreeClassifier(max_depth=12, min_samples_split=5, min_samples_leaf=3,random_state=42)\n",
        "clf.fit(X_train_pca, y_train)\n",
        "\n",
        "y_train_pred = clf.predict(X_train_pca)\n",
        "y_test_pred = clf.predict(X_test_pca)\n",
        "\n",
        "# Compute accuracy\n",
        "train_accuracy = accuracy_score(y_train, y_train_pred)\n",
        "test_accuracy = accuracy_score(y_test, y_test_pred)\n",
        "\n",
        "print(f\"Train Accuracy after PCA: {train_accuracy:.4f}\")\n",
        "from sklearn.metrics import classification_report\n",
        "report = classification_report(y_train, y_train_pred)\n",
        "print(report)\n",
        "\n",
        "print(f\"Test Accuracy after PCA: {test_accuracy:.4f}\")\n",
        "\n",
        "report = classification_report(y_test, y_test_pred)\n",
        "print(report)\n"
      ]
    }
  ],
  "metadata": {
    "accelerator": "GPU",
    "colab": {
      "gpuType": "T4",
      "provenance": []
    },
    "kernelspec": {
      "display_name": "Python 3",
      "name": "python3"
    },
    "language_info": {
      "name": "python"
    }
  },
  "nbformat": 4,
  "nbformat_minor": 0
}
