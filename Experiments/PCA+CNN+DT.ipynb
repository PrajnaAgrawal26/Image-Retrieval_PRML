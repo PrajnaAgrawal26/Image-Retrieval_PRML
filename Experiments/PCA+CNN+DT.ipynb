{
  "cells": [
    {
      "cell_type": "markdown",
      "metadata": {
        "id": "qYemWn_PVuNB"
      },
      "source": [
        "#PCA + CNN + Decision Trees"
      ]
    },
    {
      "cell_type": "code",
      "execution_count": null,
      "metadata": {},
      "outputs": [],
      "source": [
        "import pickle\n",
        "import numpy as np\n",
        "from skimage.transform import resize\n",
        "from skimage.feature import hog\n",
        "\n",
        "batch_files = [\n",
        "    \"data_batch_1\",\n",
        "    \"data_batch_2\",\n",
        "    \"data_batch_3\",\n",
        "    \"data_batch_4\",\n",
        "    \"data_batch_5\"\n",
        "]\n",
        "\n",
        "def unpickle(file):\n",
        "  with open(file, 'rb') as fo:\n",
        "    dict_data = pickle.load(fo, encoding='bytes')\n",
        "  return dict_data\n",
        "\n",
        "batch1 = unpickle(r\"data_batch_1\")\n",
        "batch2 = unpickle(r\"data_batch_2\")\n",
        "batch3 = unpickle(r\"data_batch_3\")\n",
        "batch4 = unpickle(r\"data_batch_4\")\n",
        "batch5 = unpickle(r\"data_batch_5\")\n",
        "\n",
        "\n",
        "test_data = unpickle(r\"test_batch\")\n",
        "train_data = [batch1,batch2,batch3,batch4,batch5]"
      ]
    },
    {
      "cell_type": "code",
      "execution_count": null,
      "metadata": {
        "colab": {
          "base_uri": "https://localhost:8080/"
        },
        "id": "jVkGbOyapldR",
        "outputId": "1ff7ffba-a0ed-42b5-bf67-97667e1373c7"
      },
      "outputs": [
        {
          "name": "stdout",
          "output_type": "stream",
          "text": [
            "Train Accuracy after PCA: 0.8178\n",
            "              precision    recall  f1-score   support\n",
            "\n",
            "           0       0.83      0.86      0.85      5000\n",
            "           1       0.91      0.91      0.91      5000\n",
            "           2       0.79      0.71      0.75      5000\n",
            "           3       0.66      0.73      0.69      5000\n",
            "           4       0.77      0.77      0.77      5000\n",
            "           5       0.76      0.78      0.77      5000\n",
            "           6       0.84      0.84      0.84      5000\n",
            "           7       0.83      0.79      0.81      5000\n",
            "           8       0.91      0.90      0.90      5000\n",
            "           9       0.91      0.90      0.91      5000\n",
            "\n",
            "    accuracy                           0.82     50000\n",
            "   macro avg       0.82      0.82      0.82     50000\n",
            "weighted avg       0.82      0.82      0.82     50000\n",
            "\n",
            "Test Accuracy after PCA: 0.7047\n",
            "              precision    recall  f1-score   support\n",
            "\n",
            "           0       0.70      0.74      0.72      1000\n",
            "           1       0.81      0.81      0.81      1000\n",
            "           2       0.64      0.56      0.59      1000\n",
            "           3       0.55      0.61      0.57      1000\n",
            "           4       0.63      0.63      0.63      1000\n",
            "           5       0.65      0.69      0.67      1000\n",
            "           6       0.75      0.75      0.75      1000\n",
            "           7       0.72      0.65      0.68      1000\n",
            "           8       0.80      0.80      0.80      1000\n",
            "           9       0.83      0.81      0.82      1000\n",
            "\n",
            "    accuracy                           0.70     10000\n",
            "   macro avg       0.71      0.70      0.70     10000\n",
            "weighted avg       0.71      0.70      0.70     10000\n",
            "\n"
          ]
        }
      ],
      "source": [
        "X_train = np.load(\"cifar10_cnn_train_features.npy\")\n",
        "y_train = np.load(\"cifar10_train_labels.npy\")\n",
        "\n",
        "X_test = np.load(\"cifar10_cnn_test_features.npy\")\n",
        "y_test = np.load(\"cifar10_test_labels.npy\")\n",
        "\n",
        "# Apply PCA\n",
        "pca = PCA(n_components=100)  # Reduce to 100 principal components\n",
        "X_train_pca = pca.fit_transform(X_train)\n",
        "X_test_pca = pca.transform(X_test)\n",
        "\n",
        "# Train Decision Tree Classifier\n",
        "clf = DecisionTreeClassifier(max_depth=11,min_samples_split=5, min_samples_leaf=3, random_state=42)\n",
        "clf.fit(X_train_pca, y_train)\n",
        "\n",
        "y_train_pred = clf.predict(X_train_pca)\n",
        "y_test_pred = clf.predict(X_test_pca)\n",
        "\n",
        "# Compute accuracy\n",
        "train_accuracy = accuracy_score(y_train, y_train_pred)\n",
        "test_accuracy = accuracy_score(y_test, y_test_pred)\n",
        "\n",
        "print(f\"Train Accuracy after PCA: {train_accuracy:.4f}\")\n",
        "from sklearn.metrics import classification_report\n",
        "report = classification_report(y_train, y_train_pred)\n",
        "print(report)\n",
        "\n",
        "print(f\"Test Accuracy after PCA: {test_accuracy:.4f}\")\n",
        "\n",
        "report = classification_report(y_test, y_test_pred)\n",
        "print(report)\n"
      ]
    }
  ],
  "metadata": {
    "accelerator": "GPU",
    "colab": {
      "gpuType": "T4",
      "provenance": []
    },
    "kernelspec": {
      "display_name": "Python 3",
      "name": "python3"
    },
    "language_info": {
      "name": "python"
    }
  },
  "nbformat": 4,
  "nbformat_minor": 0
}
